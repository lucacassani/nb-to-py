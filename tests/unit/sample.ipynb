{
 "cells": [
  {
   "cell_type": "markdown",
   "source": [
    "# IMPORT"
   ],
   "metadata": {
    "collapsed": false
   },
   "id": "795b799b675a17ef"
  },
  {
   "cell_type": "code",
   "execution_count": null,
   "outputs": [],
   "source": [
    "import dataset\n",
    "import features\n",
    "import target\n",
    "import model\n",
    "import classification_metrics\n",
    "import bring"
   ],
   "metadata": {
    "collapsed": false,
    "is_executing": true
   },
   "id": "initial_id"
  },
  {
   "cell_type": "markdown",
   "source": [
    "# DATASET"
   ],
   "metadata": {
    "collapsed": false
   },
   "id": "382dfa54145ce6e7"
  },
  {
   "cell_type": "code",
   "execution_count": null,
   "outputs": [],
   "source": [
    "# KEEP\n",
    "data = dataset.load(\"SELECT * FROM table\")\n",
    "train, test = dataset.split(0.3)\n",
    "X_train = train[features]\n",
    "y_train = train[target]\n",
    "X_test = train[features]\n",
    "y_test = train[target]"
   ],
   "metadata": {
    "collapsed": false
   },
   "id": "72eb8b6292f8c9cb"
  },
  {
   "cell_type": "markdown",
   "source": [
    "# MODEL FIT"
   ],
   "metadata": {
    "collapsed": false
   },
   "id": "2beef3a58f3d6311"
  },
  {
   "cell_type": "code",
   "execution_count": null,
   "outputs": [],
   "source": [
    "# KEEP\n",
    "model = model.Classifier()\n",
    "model.fit(X_train, y_train)"
   ],
   "metadata": {
    "collapsed": false
   },
   "id": "bd20eb9b9cba86c4"
  },
  {
   "cell_type": "markdown",
   "source": [
    "# MODEL PREDICT"
   ],
   "metadata": {
    "collapsed": false
   },
   "id": "575af98548da1450"
  },
  {
   "cell_type": "code",
   "execution_count": null,
   "outputs": [],
   "source": [
    "y_pred = model.predict(X_test)"
   ],
   "metadata": {
    "collapsed": false
   },
   "id": "dff16b1f356b5db3"
  },
  {
   "cell_type": "markdown",
   "source": [
    "# EVALUATION"
   ],
   "metadata": {
    "collapsed": false
   },
   "id": "5d66fee8b0cb2e5"
  },
  {
   "cell_type": "markdown",
   "source": [
    "# CLASSIFICATION METRICS"
   ],
   "metadata": {
    "collapsed": false
   },
   "id": "d2caac304d03c58c"
  },
  {
   "cell_type": "code",
   "execution_count": null,
   "outputs": [],
   "source": [
    "classification_metrics(y_pred, y_test)"
   ],
   "metadata": {
    "collapsed": false
   },
   "id": "475a5ffb5eac49ec"
  }
 ],
 "metadata": {
  "kernelspec": {
   "display_name": "Python 3",
   "language": "python",
   "name": "python3"
  },
  "language_info": {
   "codemirror_mode": {
    "name": "ipython",
    "version": 2
   },
   "file_extension": ".py",
   "mimetype": "text/x-python",
   "name": "python",
   "nbconvert_exporter": "python",
   "pygments_lexer": "ipython2",
   "version": "2.7.6"
  }
 },
 "nbformat": 4,
 "nbformat_minor": 5
}
